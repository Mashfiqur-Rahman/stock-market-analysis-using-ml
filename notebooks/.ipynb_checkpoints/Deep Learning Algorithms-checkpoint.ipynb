{
 "cells": [
  {
   "cell_type": "markdown",
   "metadata": {},
   "source": [
    "## Imports"
   ]
  },
  {
   "cell_type": "code",
   "execution_count": 1,
   "metadata": {
    "collapsed": true,
    "scrolled": true
   },
   "outputs": [],
   "source": [
    "import numpy as np\n",
    "import pandas as pd\n",
    "import matplotlib.pyplot as plt\n",
    "import seaborn as sns\n",
    "import tensorflow as tf\n",
    "import ta\n",
    "from sklearn import metrics\n",
    "from sklearn.preprocessing import MinMaxScaler\n",
    "from keras.models import Sequential\n",
    "from keras.layers import Dense, Dropout, LSTM, GRU, SimpleRNN, Conv1D\n",
    "from sklearn.metrics import mean_squared_error\n",
    "import warnings\n",
    "warnings.filterwarnings('ignore')\n",
    "np.random.seed(42)\n",
    "plt.rcParams.update({'figure.figsize': (16, 9)})"
   ]
  },
  {
   "cell_type": "markdown",
   "metadata": {},
   "source": [
    "## Load data"
   ]
  },
  {
   "cell_type": "code",
   "execution_count": 2,
   "metadata": {
    "collapsed": true,
    "scrolled": true
   },
   "outputs": [
    {
     "data": {
      "text/html": [
       "<div>\n",
       "<style scoped>\n",
       "    .dataframe tbody tr th:only-of-type {\n",
       "        vertical-align: middle;\n",
       "    }\n",
       "\n",
       "    .dataframe tbody tr th {\n",
       "        vertical-align: top;\n",
       "    }\n",
       "\n",
       "    .dataframe thead th {\n",
       "        text-align: right;\n",
       "    }\n",
       "</style>\n",
       "<table border=\"1\" class=\"dataframe\">\n",
       "  <thead>\n",
       "    <tr style=\"text-align: right;\">\n",
       "      <th></th>\n",
       "      <th>open</th>\n",
       "      <th>high</th>\n",
       "      <th>low</th>\n",
       "      <th>close</th>\n",
       "      <th>vol</th>\n",
       "      <th>close_roc</th>\n",
       "      <th>close_log_roc</th>\n",
       "      <th>rsi</th>\n",
       "      <th>macd_signal</th>\n",
       "      <th>chaikin_money_flow</th>\n",
       "    </tr>\n",
       "    <tr>\n",
       "      <th>txn_date</th>\n",
       "      <th></th>\n",
       "      <th></th>\n",
       "      <th></th>\n",
       "      <th></th>\n",
       "      <th></th>\n",
       "      <th></th>\n",
       "      <th></th>\n",
       "      <th></th>\n",
       "      <th></th>\n",
       "      <th></th>\n",
       "    </tr>\n",
       "  </thead>\n",
       "  <tbody>\n",
       "    <tr>\n",
       "      <th>1999-01-11</th>\n",
       "      <td>58.9</td>\n",
       "      <td>58.9</td>\n",
       "      <td>58.0</td>\n",
       "      <td>58.3</td>\n",
       "      <td>0.0</td>\n",
       "      <td>0.003442</td>\n",
       "      <td>0.003436</td>\n",
       "      <td>100.000000</td>\n",
       "      <td>0.003191</td>\n",
       "      <td>0.0</td>\n",
       "    </tr>\n",
       "    <tr>\n",
       "      <th>1999-01-12</th>\n",
       "      <td>58.6</td>\n",
       "      <td>58.7</td>\n",
       "      <td>58.4</td>\n",
       "      <td>58.5</td>\n",
       "      <td>0.0</td>\n",
       "      <td>0.003431</td>\n",
       "      <td>0.003425</td>\n",
       "      <td>100.000000</td>\n",
       "      <td>0.011398</td>\n",
       "      <td>0.0</td>\n",
       "    </tr>\n",
       "    <tr>\n",
       "      <th>1999-01-13</th>\n",
       "      <td>58.6</td>\n",
       "      <td>58.7</td>\n",
       "      <td>58.5</td>\n",
       "      <td>58.6</td>\n",
       "      <td>0.0</td>\n",
       "      <td>0.001709</td>\n",
       "      <td>0.001708</td>\n",
       "      <td>100.000000</td>\n",
       "      <td>0.023889</td>\n",
       "      <td>0.0</td>\n",
       "    </tr>\n",
       "    <tr>\n",
       "      <th>1999-01-14</th>\n",
       "      <td>58.5</td>\n",
       "      <td>59.5</td>\n",
       "      <td>58.1</td>\n",
       "      <td>58.8</td>\n",
       "      <td>0.0</td>\n",
       "      <td>0.003413</td>\n",
       "      <td>0.003407</td>\n",
       "      <td>100.000000</td>\n",
       "      <td>0.041546</td>\n",
       "      <td>0.0</td>\n",
       "    </tr>\n",
       "    <tr>\n",
       "      <th>1999-01-23</th>\n",
       "      <td>59.0</td>\n",
       "      <td>59.0</td>\n",
       "      <td>58.6</td>\n",
       "      <td>58.7</td>\n",
       "      <td>0.0</td>\n",
       "      <td>-0.001701</td>\n",
       "      <td>-0.001702</td>\n",
       "      <td>85.310605</td>\n",
       "      <td>0.059825</td>\n",
       "      <td>0.0</td>\n",
       "    </tr>\n",
       "  </tbody>\n",
       "</table>\n",
       "</div>"
      ],
      "text/plain": [
       "            open  high   low  close  vol  close_roc  close_log_roc  \\\n",
       "txn_date                                                             \n",
       "1999-01-11  58.9  58.9  58.0   58.3  0.0   0.003442       0.003436   \n",
       "1999-01-12  58.6  58.7  58.4   58.5  0.0   0.003431       0.003425   \n",
       "1999-01-13  58.6  58.7  58.5   58.6  0.0   0.001709       0.001708   \n",
       "1999-01-14  58.5  59.5  58.1   58.8  0.0   0.003413       0.003407   \n",
       "1999-01-23  59.0  59.0  58.6   58.7  0.0  -0.001701      -0.001702   \n",
       "\n",
       "                   rsi  macd_signal  chaikin_money_flow  \n",
       "txn_date                                                 \n",
       "1999-01-11  100.000000     0.003191                 0.0  \n",
       "1999-01-12  100.000000     0.011398                 0.0  \n",
       "1999-01-13  100.000000     0.023889                 0.0  \n",
       "1999-01-14  100.000000     0.041546                 0.0  \n",
       "1999-01-23   85.310605     0.059825                 0.0  "
      ]
     },
     "execution_count": 2,
     "metadata": {},
     "output_type": "execute_result"
    }
   ],
   "source": [
    "data = pd.read_csv('../data/processed/company_id_94_processed.csv', parse_dates=True)\n",
    "data = data[['txn_date', \n",
    "             'open', 'high', 'low', \n",
    "             'close',\n",
    "             'vol', \n",
    "#              'month', \n",
    "#              'day', \n",
    "#              'day_of_month'\n",
    "            ]].sort_values(by='txn_date')\n",
    "data['txn_date'] = pd.to_datetime(data['txn_date'])\n",
    "# data = data[data['txn_date']< '2020-03-01']\n",
    "data.set_index('txn_date', inplace=True, drop=True)\n",
    "data['close_roc'] = data['close'].pct_change()\n",
    "data['close_log_roc'] = np.log(1+data['close_roc'])\n",
    "data['rsi'] = ta.momentum.RSIIndicator(close=data['close'], fillna=True).rsi()\n",
    "data['macd_signal'] = ta.trend.MACD(close=data['close'], fillna=True).macd_signal()\n",
    "# data['macd_signal'] = ta.trend.MACD(close=data['close'], fillna=True).macd_signal()\n",
    "data['chaikin_money_flow'] = ta.volume.ChaikinMoneyFlowIndicator(high=data['high'], low=data['low'], close=data['close'], volume=data['vol'], fillna=True).chaikin_money_flow()\n",
    "data.dropna(inplace=True)\n",
    "# data = data.resample('W').mean()\n",
    "data.head()"
   ]
  },
  {
   "cell_type": "markdown",
   "metadata": {},
   "source": [
    "## Preprocessing"
   ]
  },
  {
   "cell_type": "code",
   "execution_count": 3,
   "metadata": {
    "collapsed": true,
    "scrolled": true
   },
   "outputs": [],
   "source": [
    "# data.info()"
   ]
  },
  {
   "cell_type": "code",
   "execution_count": 4,
   "metadata": {
    "collapsed": true,
    "scrolled": true
   },
   "outputs": [],
   "source": [
    "# data.describe()"
   ]
  },
  {
   "cell_type": "code",
   "execution_count": 5,
   "metadata": {
    "collapsed": true,
    "scrolled": true
   },
   "outputs": [],
   "source": [
    "# min(data.index), max(data.index), data.shape[0]"
   ]
  },
  {
   "cell_type": "code",
   "execution_count": 6,
   "metadata": {
    "collapsed": true,
    "scrolled": true
   },
   "outputs": [],
   "source": [
    "# data['chaikin_money_flow'].plot()\n",
    "# plt.xlabel('Date')\n",
    "# plt.ylabel('Price')\n",
    "# plt.legend(['Close Price'])\n",
    "# plt.show()"
   ]
  },
  {
   "cell_type": "code",
   "execution_count": 7,
   "metadata": {
    "collapsed": true,
    "scrolled": true
   },
   "outputs": [],
   "source": [
    "# data['close_roc'].plot()\n",
    "# plt.xlabel('Date')\n",
    "# plt.ylabel('Close Price Rate Of Change')\n",
    "# plt.show()"
   ]
  },
  {
   "cell_type": "code",
   "execution_count": 8,
   "metadata": {
    "collapsed": true,
    "scrolled": true
   },
   "outputs": [],
   "source": [
    "# data['vol'].plot()\n",
    "# plt.xlabel('Date')\n",
    "# plt.ylabel('Trade Volume')\n",
    "# plt.show()"
   ]
  },
  {
   "cell_type": "code",
   "execution_count": 9,
   "metadata": {
    "collapsed": true,
    "scrolled": true
   },
   "outputs": [],
   "source": [
    "def timeseries_evaluation_metrics_func(y_true, y_pred):\n",
    "    def mean_absolute_percentage_error(y_true, y_pred):\n",
    "        y_true, y_pred = np.array(y_true), np.array(y_pred)\n",
    "        return np.mean(np.abs((y_true - y_pred) / y_true)) * 100\n",
    "    print('Evaluation metric results:-')\n",
    "    print(f'MSE is : {metrics.mean_squared_error(y_true, y_pred)}')\n",
    "    print(f'MAE is : {metrics.mean_absolute_error(y_true, y_pred)}')\n",
    "    print(f'RMSE is : {np.sqrt(metrics.mean_squared_error(y_true, y_pred))}')\n",
    "    print(f'MAPE is : {mean_absolute_percentage_error(y_true, y_pred)}')\n",
    "    print(f'R2 is : {metrics.r2_score(y_true, y_pred)}',end='\\n\\n')"
   ]
  },
  {
   "cell_type": "code",
   "execution_count": 110,
   "metadata": {
    "scrolled": true
   },
   "outputs": [],
   "source": [
    "def custom_ts_data_prep(dataset, target, start, end, window, horizon):\n",
    "    X = []\n",
    "    y = []\n",
    "    start = start + window\n",
    "    if end is None:\n",
    "        end = len(dataset) - horizon\n",
    "    for i in range(start, end):\n",
    "        indices = range(i-window, i)\n",
    "        X.append(dataset[indices])\n",
    "        indicey = range(i+1, i+1+horizon)\n",
    "        y.append(target[indicey])\n",
    "    return np.array(X), np.array(y)"
   ]
  },
  {
   "cell_type": "code",
   "execution_count": 111,
   "metadata": {
    "scrolled": true
   },
   "outputs": [],
   "source": [
    "def preprocessing(x, y):\n",
    "    x_scaler = MinMaxScaler(feature_range=(-1,1))\n",
    "    y_scaler = MinMaxScaler(feature_range=(-1,1))\n",
    "    data_x = x_scaler.fit_transform(x)\n",
    "    data_y = y_scaler.fit_transform(y)\n",
    "    return (x_scaler, y_scaler, data_x, data_y)"
   ]
  },
  {
   "cell_type": "code",
   "execution_count": 127,
   "metadata": {
    "scrolled": true
   },
   "outputs": [],
   "source": [
    "def split_data(window, data_x, data_y, size=0.8, horizon=5):\n",
    "    TRAIN_SPLIT = int(len(data_x)*size)\n",
    "    x_train_multi, y_train_multi = custom_ts_data_prep(data_x, data_y, 0, TRAIN_SPLIT, window, horizon)\n",
    "    x_val_multi, y_val_multi= custom_ts_data_prep(data_x, data_y, TRAIN_SPLIT, None, window, horizon)\n",
    "    split = int(len(x_val_multi)*0.5)\n",
    "#     x_val_multi, y_val_multi, x_test_multi, y_test_multi = x_val_multi[: split], y_val_multi[:split], x_val_multi[:-split], y_val_multi[:-split]\n",
    "    assert(x_train_multi.shape[0]  == y_train_multi.shape[0])\n",
    "    assert(x_val_multi.shape[0]  == y_val_multi.shape[0])\n",
    "    return x_train_multi, y_train_multi, x_val_multi[: split], y_val_multi[:split], x_val_multi[:-split], y_val_multi[:-split],split"
   ]
  },
  {
   "cell_type": "code",
   "execution_count": 143,
   "metadata": {
    "scrolled": true
   },
   "outputs": [],
   "source": [
    "def prep_data(train_data, val_data):\n",
    "    BATCH_SIZE = 128\n",
    "    BUFFER_SIZE = 150\n",
    "#     print(train_data[0].shape, val_data[0].shape)\n",
    "#     print(train_data[1].shape, val_data[1].shape)\n",
    "    train_data = tf.data.Dataset.from_tensor_slices(train_data)\n",
    "    train_data = train_data.cache().shuffle(BUFFER_SIZE).batch(BATCH_SIZE).repeat()\n",
    "    val_data = tf.data.Dataset.from_tensor_slices(val_data)\n",
    "    val_data = val_data.batch(BATCH_SIZE).repeat()\n",
    "    return (train_data, val_data)"
   ]
  },
  {
   "cell_type": "code",
   "execution_count": 114,
   "metadata": {
    "scrolled": true
   },
   "outputs": [],
   "source": [
    "def show_model_loss_plot(history, title=''):\n",
    "    plt.plot(history.history['loss'])\n",
    "    plt.plot(history.history['val_loss'])\n",
    "    plt.title('Model loss ' + title)\n",
    "    plt.ylabel('loss')\n",
    "    plt.xlabel('epoch')\n",
    "    plt.legend(['train loss', 'validation loss'], loc='upper left')\n",
    "#     plt.rcParams[\"figure.figsize\"] = [16,9]\n",
    "    plt.show()"
   ]
  },
  {
   "cell_type": "code",
   "execution_count": 124,
   "metadata": {
    "scrolled": true
   },
   "outputs": [],
   "source": [
    "def process(scaler, y_val_multi, \n",
    "            y_test_multi, \n",
    "            result_inv_trans,\n",
    "            data, split,into=0):\n",
    "    a = pd.DataFrame([scaler.inverse_transform(y[0].reshape(-1,1))[0][0] \n",
    "                      for y in y_val_multi], index=np.array(data.index)[-2*split:-split])\n",
    "    b = pd.DataFrame([scaler.inverse_transform(y[0].reshape(-1,1))[0][0] \n",
    "                      for y in y_test_multi], index=data[-len(y_test_multi):].index)\n",
    "    c = pd.DataFrame([scaler.inverse_transform(np.array(y[into]).reshape(-1,1))[0][0] \n",
    "                      for y in result_inv_trans], index=data[-len(result_inv_trans):].index)\n",
    "    return a, b, c"
   ]
  },
  {
   "cell_type": "code",
   "execution_count": 116,
   "metadata": {
    "scrolled": true
   },
   "outputs": [],
   "source": [
    "def show_actual_vs_predicted_plot(a, b, c, title=''):    \n",
    "    plt.plot(a )\n",
    "    plt.plot(b)\n",
    "    plt.plot(c)\n",
    "    plt.title(\"Actual vs Predicted \" + title)\n",
    "    plt.ylabel(\"Price Rate of Change\")\n",
    "    plt.legend(('val','Actual','predicted'))\n",
    "    plt.show()"
   ]
  },
  {
   "cell_type": "code",
   "execution_count": 146,
   "metadata": {
    "scrolled": true
   },
   "outputs": [],
   "source": [
    "def train_model(model, train_data, val_data, model_path,\n",
    "                epochs=100, steps_per_epoch=100,\n",
    "               validation_steps=50, verbose=1, callbacks= None):\n",
    "    if callbacks == None:\n",
    "        callbacks =[tf.keras.callbacks.EarlyStopping(monitor='val_loss', \n",
    "                                                     min_delta=0, patience=5,\n",
    "                                                     verbose=1, mode='min'),\n",
    "                    tf.keras.callbacks.ModelCheckpoint(model_path, monitor='val_loss',\n",
    "                                                                  save_best_only=True, \n",
    "                                                                  mode='min',\n",
    "                                                                  verbose=0)]\n",
    "    \n",
    "    history = model.fit(train_data, epochs=epochs,\n",
    "                        steps_per_epoch=steps_per_epoch,\n",
    "                        validation_steps=validation_steps, verbose =verbose,\n",
    "                        callbacks=callbacks)\n",
    "    return history"
   ]
  },
  {
   "cell_type": "code",
   "execution_count": 145,
   "metadata": {
    "scrolled": true
   },
   "outputs": [],
   "source": [
    "def lifecycle(data, model_type='lstm', window=22, output='close', horizon=1, into=0):\n",
    "    x_scaler, y_scaler,data_x, data_y = preprocessing(data, data[[output]])\n",
    "    x_train_multi, y_train_multi, x_val_multi, y_val_multi, x_test_multi, y_test_multi, split = split_data(window, data_x, data_y, 0.7, horizon=horizon)\n",
    "    train_data, val_data = prep_data((x_train_multi, y_train_multi), (x_val_multi, y_val_multi))\n",
    "    model = get_model(model_type, x_train_multi.shape[-2:], output=horizon)\n",
    "    model_path = r'../models/LSTM_Multivariate.h5'\n",
    "    history = train_model(model, train_data, val_data, model_path, epochs=1)\n",
    "    model = tf.keras.models.load_model(model_path)\n",
    "    model.summary()\n",
    "    result_inv_trans = model.predict(x_test_multi)\n",
    "    print(result_inv_trans[0], y_val_multi[0])\n",
    "    a, b, c = process(y_scaler, y_val_multi, y_test_multi, result_inv_trans, data, split, into=into)\n",
    "    timeseries_evaluation_metrics_func(b.values, c.values)\n",
    "    title = '{} for {} Days'.format(model_type.upper(), window)\n",
    "#     show_model_loss_plot(history, title)\n",
    "    show_actual_vs_predicted_plot(a, b, c, title)"
   ]
  },
  {
   "cell_type": "code",
   "execution_count": 137,
   "metadata": {
    "scrolled": true
   },
   "outputs": [],
   "source": [
    "def get_model(type, input_shape, optimizer='adam', loss='mse', output=1):\n",
    "    model = None\n",
    "    if type == 'lstm':\n",
    "        model = Sequential([\n",
    "            LSTM(40, input_shape=input_shape, return_sequences=True),\n",
    "            LSTM(units=40,return_sequences=True),\n",
    "            Dropout(0.1),\n",
    "            LSTM(units=40,return_sequences=True),\n",
    "            Dropout(0.1),\n",
    "            LSTM(units=20),\n",
    "            Dense(units=output)\n",
    "        ])\n",
    "    elif type == 'rnn':\n",
    "            model = Sequential([\n",
    "                SimpleRNN(50, input_shape=input_shape, return_sequences=True),\n",
    "                Dropout(0.1),\n",
    "                SimpleRNN(15, input_shape=input_shape, return_sequences=True),\n",
    "                Dropout(0.1),\n",
    "#                 SimpleRNN(50, input_shape=input_shape, return_sequences=True),\n",
    "                Dense(output)\n",
    "            ])\n",
    "    elif type == 'gru':\n",
    "        model = Sequential([\n",
    "            GRU(50, input_shape=input_shape, return_sequences=True),\n",
    "            Dropout(0.1),\n",
    "            Dense(output)\n",
    "        ])\n",
    "    else:\n",
    "        None\n",
    "    model.compile(optimizer=optimizer, loss=loss)\n",
    "    return model"
   ]
  },
  {
   "cell_type": "code",
   "execution_count": 148,
   "metadata": {
    "scrolled": false
   },
   "outputs": [
    {
     "name": "stdout",
     "output_type": "stream",
     "text": [
      "(3748, 22, 10) (797, 22, 10)\n",
      "(3748, 1, 1) (797, 1, 1)\n",
      " 98/100 [============================>.] - ETA: 0s - loss: 0.0922- ETA: 0s - loss: 0.10 - ETA: 0s - loss: 0.0 - ETA: 0s - loss: 0.WARNING:tensorflow:Early stopping conditioned on metric `val_loss` which is not available. Available metrics are: loss\n",
      "WARNING:tensorflow:Can save best model only with val_loss available, skipping.\n",
      "100/100 [==============================] - 2s 20ms/step - loss: 0.0914\n",
      "Model: \"sequential_39\"\n",
      "_________________________________________________________________\n",
      "Layer (type)                 Output Shape              Param #   \n",
      "=================================================================\n",
      "lstm_52 (LSTM)               (None, 22, 40)            8160      \n",
      "_________________________________________________________________\n",
      "lstm_53 (LSTM)               (None, 22, 40)            12960     \n",
      "_________________________________________________________________\n",
      "dropout_51 (Dropout)         (None, 22, 40)            0         \n",
      "_________________________________________________________________\n",
      "lstm_54 (LSTM)               (None, 22, 40)            12960     \n",
      "_________________________________________________________________\n",
      "dropout_52 (Dropout)         (None, 22, 40)            0         \n",
      "_________________________________________________________________\n",
      "lstm_55 (LSTM)               (None, 20)                4880      \n",
      "_________________________________________________________________\n",
      "dense_35 (Dense)             (None, 5)                 105       \n",
      "=================================================================\n",
      "Total params: 39,065\n",
      "Trainable params: 39,065\n",
      "Non-trainable params: 0\n",
      "_________________________________________________________________\n",
      "[-0.9651428 -0.9171251 -0.947884  -0.8917972 -0.9585257] [[-0.86833443]]\n",
      "Evaluation metric results:-\n",
      "MSE is : 154.26794020248943\n",
      "MAE is : 11.70909141387365\n",
      "RMSE is : 12.420464572731948\n",
      "MAPE is : 37.7489085167739\n",
      "R2 is : -6.792355813202771\n",
      "\n"
     ]
    },
    {
     "data": {
      "image/png": "[encoded data removed]",
      "text/plain": [
       "<Figure size 1152x648 with 1 Axes>"
      ]
     },
     "metadata": {
      "needs_background": "light"
     },
     "output_type": "display_data"
    }
   ],
   "source": [
    "# lstm_model.compile(optimizer='adam', loss='mse')\n",
    "lifecycle(data, 'rnn', 22)"
   ]
  },
  {
   "cell_type": "code",
   "execution_count": null,
   "metadata": {
    "scrolled": true
   },
   "outputs": [],
   "source": []
  },
  {
   "cell_type": "code",
   "execution_count": null,
   "metadata": {
    "scrolled": true
   },
   "outputs": [],
   "source": []
  },
  {
   "cell_type": "code",
   "execution_count": null,
   "metadata": {
    "scrolled": true
   },
   "outputs": [],
   "source": []
  }
 ],
 "metadata": {
  "kernelspec": {
   "display_name": "Python 3",
   "language": "python",
   "name": "python3"
  },
  "language_info": {
   "codemirror_mode": {
    "name": "ipython",
    "version": 3
   },
   "file_extension": ".py",
   "mimetype": "text/x-python",
   "name": "python",
   "nbconvert_exporter": "python",
   "pygments_lexer": "ipython3",
   "version": "3.8.5"
  }
 },
 "nbformat": 4,
 "nbformat_minor": 5
}
